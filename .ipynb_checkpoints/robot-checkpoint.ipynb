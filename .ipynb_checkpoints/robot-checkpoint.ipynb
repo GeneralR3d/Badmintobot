{
 "cells": [
  {
   "cell_type": "code",
   "execution_count": 1,
   "metadata": {},
   "outputs": [],
   "source": [
    "import numpy as np\n",
    "import pandas as pd"
   ]
  },
  {
   "cell_type": "code",
   "execution_count": 2,
   "metadata": {},
   "outputs": [],
   "source": [
    "modelX= pd.read_excel(\"output/predicted_trajectoriesX.xlsx\")[\"LocationX\"]\n",
    "modelY= pd.read_excel(\"output/predicted_trajectoriesY.xlsx\")[\"LocationY\"]\n",
    "modelZ= pd.read_excel(\"output/predicted_trajectoriesZ.xlsx\")[\"LocationZ\"]"
   ]
  },
  {
   "cell_type": "code",
   "execution_count": 3,
   "metadata": {},
   "outputs": [
    {
     "data": {
      "text/plain": [
       "0     1943.031929\n",
       "1     3330.891331\n",
       "2     3955.303290\n",
       "3     4315.689308\n",
       "4     4377.759688\n",
       "         ...     \n",
       "56      76.083973\n",
       "57      76.083973\n",
       "58      76.083973\n",
       "59      76.083973\n",
       "60      76.083973\n",
       "Name: LocationZ, Length: 61, dtype: float64"
      ]
     },
     "execution_count": 3,
     "metadata": {},
     "output_type": "execute_result"
    }
   ],
   "source": [
    "\n"
   ]
  }
 ],
 "metadata": {
  "kernelspec": {
   "display_name": "Python 3 (ipykernel)",
   "language": "python",
   "name": "python3"
  },
  "language_info": {
   "codemirror_mode": {
    "name": "ipython",
    "version": 3
   },
   "file_extension": ".py",
   "mimetype": "text/x-python",
   "name": "python",
   "nbconvert_exporter": "python",
   "pygments_lexer": "ipython3",
   "version": "3.9.13"
  }
 },
 "nbformat": 4,
 "nbformat_minor": 2
}
