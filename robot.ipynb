{
 "cells": [
  {
   "cell_type": "code",
   "execution_count": 8,
   "metadata": {},
   "outputs": [],
   "source": [
    "import numpy as np\n",
    "import pandas as pd"
   ]
  },
  {
   "cell_type": "code",
   "execution_count": 9,
   "metadata": {},
   "outputs": [],
   "source": [
    "modelX= pd.read_excel(\"output/predicted_trajectoriesX.xlsx\")\n",
    "modelY= pd.read_excel(\"output/predicted_trajectoriesY.xlsx\")\n",
    "modelZ= pd.read_excel(\"output/predicted_trajectoriesZ.xlsx\")"
   ]
  },
  {
   "cell_type": "code",
   "execution_count": 25,
   "metadata": {},
   "outputs": [
    {
     "name": "stdout",
     "output_type": "stream",
     "text": [
      "height higher is  1571.019483090939\n",
      "height lower is  1299.719302969215\n"
     ]
    }
   ],
   "source": [
    "HEIGHT_OF_CONTACT = 1300\n",
    "MAX_HEIGHT= 4000\n",
    "passedMaxHeight = False\n",
    "heightSeries = modelZ[\"LocationZ\"]\n",
    "for i in range(heightSeries.size):\n",
    "    if heightSeries[i] > MAX_HEIGHT :\n",
    "        passedMaxHeight=True\n",
    "    if passedMaxHeight and heightSeries[i] < HEIGHT_OF_CONTACT:\n",
    "        print(f\"height higher is  {heightSeries[i-1]}\")\n",
    "        print(f\"height lower is  {heightSeries[i]}\")\n",
    "        break\n",
    "        \n",
    "        \n",
    "    \n",
    "    \n",
    "    \n"
   ]
  },
  {
   "cell_type": "code",
   "execution_count": 27,
   "metadata": {},
   "outputs": [
    {
     "data": {
      "text/plain": [
       "0     1943.031929\n",
       "1     3330.891331\n",
       "2     3955.303290\n",
       "3     4315.689308\n",
       "4     4377.759688\n",
       "5     4678.418094\n",
       "6     4729.397908\n",
       "7     4720.455039\n",
       "8     4684.478942\n",
       "9     4393.626011\n",
       "10    4306.883182\n",
       "11    4178.109904\n",
       "12    4080.951258\n",
       "13    3929.829711\n",
       "14    3538.958875\n",
       "15    3384.357685\n",
       "16    3088.292263\n",
       "17    2685.941369\n",
       "18    2208.796493\n",
       "19    2079.219695\n",
       "20    1571.019483\n",
       "21    1299.719303\n",
       "22     891.682423\n",
       "23     488.419812\n",
       "24     238.241864\n",
       "25      76.083973\n",
       "26      76.083973\n",
       "27      76.083973\n",
       "28      76.083973\n",
       "29      76.083973\n",
       "30      76.083973\n",
       "31      76.083973\n",
       "32      76.083973\n",
       "33      76.083973\n",
       "34      76.083973\n",
       "35      76.083973\n",
       "36      76.083973\n",
       "37      76.083973\n",
       "38      76.083973\n",
       "39      76.083973\n",
       "40      76.083973\n",
       "41      76.083973\n",
       "42      76.083973\n",
       "43      76.083973\n",
       "44      76.083973\n",
       "45      76.083973\n",
       "46      76.083973\n",
       "47      76.083973\n",
       "48      76.083973\n",
       "49      76.083973\n",
       "50      76.083973\n",
       "51      76.083973\n",
       "52      76.083973\n",
       "53      76.083973\n",
       "54      76.083973\n",
       "55      76.083973\n",
       "56      76.083973\n",
       "57      76.083973\n",
       "58      76.083973\n",
       "59      76.083973\n",
       "Name: LocationZ, dtype: float64"
      ]
     },
     "execution_count": 27,
     "metadata": {},
     "output_type": "execute_result"
    }
   ],
   "source": [
    "heightSeries.head(60)\n"
   ]
  },
  {
   "cell_type": "code",
   "execution_count": null,
   "metadata": {},
   "outputs": [],
   "source": []
  }
 ],
 "metadata": {
  "kernelspec": {
   "display_name": "Python 3 (ipykernel)",
   "language": "python",
   "name": "python3"
  },
  "language_info": {
   "codemirror_mode": {
    "name": "ipython",
    "version": 3
   },
   "file_extension": ".py",
   "mimetype": "text/x-python",
   "name": "python",
   "nbconvert_exporter": "python",
   "pygments_lexer": "ipython3",
   "version": "3.9.13"
  }
 },
 "nbformat": 4,
 "nbformat_minor": 2
}
