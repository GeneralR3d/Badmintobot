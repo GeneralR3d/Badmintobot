{
 "cells": [
  {
   "cell_type": "code",
   "execution_count": 1,
   "id": "493671f8",
   "metadata": {},
   "outputs": [],
   "source": [
    "import numpy as np\n",
    "import pandas as pd\n",
    "import math"
   ]
  },
  {
   "cell_type": "code",
   "execution_count": 2,
   "id": "e1f493e1",
   "metadata": {},
   "outputs": [],
   "source": [
    "dataset= pd.read_excel(\"dataset.xlsx\")"
   ]
  },
  {
   "cell_type": "code",
   "execution_count": null,
   "id": "073ef4c3",
   "metadata": {},
   "outputs": [],
   "source": [
    "dataset.head(60)"
   ]
  },
  {
   "cell_type": "code",
   "execution_count": null,
   "id": "e3cca181",
   "metadata": {},
   "outputs": [],
   "source": [
    "#list comphrehension method which short but cryptic and not in the spirit of code readability\n",
    "new= list(dataset.iloc[[i for i in dataset.index if dataset.iloc[i]['time']==0]].index)"
   ]
  },
  {
   "cell_type": "code",
   "execution_count": 3,
   "id": "59d1153e",
   "metadata": {},
   "outputs": [],
   "source": [
    "# the for loop way, which does the same thing but is less cryptic\n",
    "timeZeroList=[]\n",
    "for index in dataset.index:\n",
    "    if dataset.iloc[index]['time'] == 0:\n",
    "        timeZeroList.append(index)\n",
    "        "
   ]
  },
  {
   "cell_type": "code",
   "execution_count": 4,
   "id": "001d82d3",
   "metadata": {},
   "outputs": [
    {
     "data": {
      "text/plain": [
       "[0, 59, 115, 173, 220]"
      ]
     },
     "execution_count": 4,
     "metadata": {},
     "output_type": "execute_result"
    }
   ],
   "source": [
    "timeZeroList"
   ]
  },
  {
   "cell_type": "code",
   "execution_count": 5,
   "id": "bbccbb2d",
   "metadata": {},
   "outputs": [],
   "source": [
    "startIndex = 0\n",
    "index = startIndex\n",
    "# this condition in while loop will be false when we index+1 is a zero. Since zero minus any value before will be negative. \n",
    "#This way we stop at index, which is before zero.\n",
    "while dataset.iloc[index+1]['time'] - dataset.iloc[index]['time'] > 0:\n",
    "    index +=1\n",
    "new= dataset.iloc[startIndex: index+1] #recall python list slicing doesnt include the end point"
   ]
  },
  {
   "cell_type": "code",
   "execution_count": null,
   "id": "94a5e6c7",
   "metadata": {},
   "outputs": [],
   "source": [
    "new"
   ]
  },
  {
   "cell_type": "code",
   "execution_count": 6,
   "id": "d76f2095",
   "metadata": {},
   "outputs": [],
   "source": [
    "def getLastLabel():\n",
    "    return dataset.iloc[-1]['label']"
   ]
  },
  {
   "cell_type": "code",
   "execution_count": 7,
   "id": "c58f3150",
   "metadata": {},
   "outputs": [],
   "source": [
    "shiftStep = 100 \n",
    "#100mm is the shift step, which is 0.1m\n",
    "\n",
    "def transformX(originalDF,inclusiveMin,inclusiveMax):\n",
    "    global dataset\n",
    "    \n",
    "    currentDF= originalDF\n",
    "    while currentDF.iloc[0][\"LocationX\"] > inclusiveMin:\n",
    "        newDF=currentDF.copy(deep=True)\n",
    "        newDF['LocationX'] = (newDF['LocationX']-shiftStep)\n",
    "        newDF['label'] = getLastLabel() + 1\n",
    "        dataset=pd.concat([dataset,newDF],ignore_index=True)\n",
    "        currentDF= newDF\n",
    "        \n",
    "    currentDF = originalDF\n",
    "    while currentDF.iloc[0][\"LocationX\"] < inclusiveMax:\n",
    "        newDF=currentDF.copy(deep=True)\n",
    "        newDF['LocationX'] = (newDF['LocationX']+shiftStep)\n",
    "        newDF['label'] = getLastLabel() + 1\n",
    "        dataset=pd.concat([dataset,newDF],ignore_index=True)\n",
    "        currentDF= newDF"
   ]
  },
  {
   "cell_type": "code",
   "execution_count": 9,
   "id": "0b14f06a",
   "metadata": {},
   "outputs": [],
   "source": [
    "dataset.to_excel('dataset3.xlsx')"
   ]
  },
  {
   "cell_type": "code",
   "execution_count": 8,
   "id": "e2c95701",
   "metadata": {},
   "outputs": [],
   "source": [
    "transformX(new,100,4000)"
   ]
  },
  {
   "cell_type": "code",
   "execution_count": null,
   "id": "6136097b",
   "metadata": {},
   "outputs": [],
   "source": [
    "getLastLabel()"
   ]
  },
  {
   "cell_type": "code",
   "execution_count": null,
   "id": "7ac33dc2",
   "metadata": {},
   "outputs": [],
   "source": [
    "print(dataset)"
   ]
  },
  {
   "cell_type": "code",
   "execution_count": null,
   "id": "b8717166",
   "metadata": {},
   "outputs": [],
   "source": []
  }
 ],
 "metadata": {
  "kernelspec": {
   "display_name": "Python 3 (ipykernel)",
   "language": "python",
   "name": "python3"
  },
  "language_info": {
   "codemirror_mode": {
    "name": "ipython",
    "version": 3
   },
   "file_extension": ".py",
   "mimetype": "text/x-python",
   "name": "python",
   "nbconvert_exporter": "python",
   "pygments_lexer": "ipython3",
   "version": "3.9.13"
  }
 },
 "nbformat": 4,
 "nbformat_minor": 5
}
